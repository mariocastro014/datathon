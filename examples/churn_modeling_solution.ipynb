{
  "cells": [
    {
      "cell_type": "code",
      "source": [
        "import pandas as pd\n",
        "import numpy as np\n",
        "\n",
        "from sklearn.utils import resample\n",
        "from sklearn.linear_model import LogisticRegression\n",
        "from sklearn.svm import SVC\n",
        "from sklearn.ensemble import GradientBoostingClassifier\n",
        "\n",
        "from sklearn.model_selection import GridSearchCV\n",
        "\n",
        "from sklearn.metrics import accuracy_score\n",
        "from sklearn.metrics import roc_auc_score\n",
        "\n",
        "from sklearn.model_selection import cross_val_score\n",
        "from sklearn import metrics\n"
      ],
      "outputs": [],
      "execution_count": 1,
      "metadata": {
        "gather": {
          "logged": 1645988033727
        }
      }
    },
    {
      "cell_type": "code",
      "source": [
        "# Read dataset\n",
        "d = pd.read_csv('churn_modeling.csv')\n",
        "d"
      ],
      "outputs": [
        {
          "output_type": "execute_result",
          "execution_count": 2,
          "data": {
            "text/plain": "      RowNumber  CustomerId    Surname  CreditScore Geography  Gender  Age  \\\n0             1    15634602   Hargrave          619    France  Female   42   \n1             2    15647311       Hill          608     Spain  Female   41   \n2             3    15619304       Onio          502    France  Female   42   \n3             4    15701354       Boni          699    France  Female   39   \n4             5    15737888   Mitchell          850     Spain  Female   43   \n...         ...         ...        ...          ...       ...     ...  ...   \n9995       9996    15606229   Obijiaku          771    France    Male   39   \n9996       9997    15569892  Johnstone          516    France    Male   35   \n9997       9998    15584532        Liu          709    France  Female   36   \n9998       9999    15682355  Sabbatini          772   Germany    Male   42   \n9999      10000    15628319     Walker          792    France  Female   28   \n\n      Tenure    Balance  NumOfProducts  HasCrCard  IsActiveMember  \\\n0          2       0.00              1          1               1   \n1          1   83807.86              1          0               1   \n2          8  159660.80              3          1               0   \n3          1       0.00              2          0               0   \n4          2  125510.82              1          1               1   \n...      ...        ...            ...        ...             ...   \n9995       5       0.00              2          1               0   \n9996      10   57369.61              1          1               1   \n9997       7       0.00              1          0               1   \n9998       3   75075.31              2          1               0   \n9999       4  130142.79              1          1               0   \n\n      EstimatedSalary  Exited  \n0           101348.88       1  \n1           112542.58       0  \n2           113931.57       1  \n3            93826.63       0  \n4            79084.10       0  \n...               ...     ...  \n9995         96270.64       0  \n9996        101699.77       0  \n9997         42085.58       1  \n9998         92888.52       1  \n9999         38190.78       0  \n\n[10000 rows x 14 columns]",
            "text/html": "<div>\n<style scoped>\n    .dataframe tbody tr th:only-of-type {\n        vertical-align: middle;\n    }\n\n    .dataframe tbody tr th {\n        vertical-align: top;\n    }\n\n    .dataframe thead th {\n        text-align: right;\n    }\n</style>\n<table border=\"1\" class=\"dataframe\">\n  <thead>\n    <tr style=\"text-align: right;\">\n      <th></th>\n      <th>RowNumber</th>\n      <th>CustomerId</th>\n      <th>Surname</th>\n      <th>CreditScore</th>\n      <th>Geography</th>\n      <th>Gender</th>\n      <th>Age</th>\n      <th>Tenure</th>\n      <th>Balance</th>\n      <th>NumOfProducts</th>\n      <th>HasCrCard</th>\n      <th>IsActiveMember</th>\n      <th>EstimatedSalary</th>\n      <th>Exited</th>\n    </tr>\n  </thead>\n  <tbody>\n    <tr>\n      <th>0</th>\n      <td>1</td>\n      <td>15634602</td>\n      <td>Hargrave</td>\n      <td>619</td>\n      <td>France</td>\n      <td>Female</td>\n      <td>42</td>\n      <td>2</td>\n      <td>0.00</td>\n      <td>1</td>\n      <td>1</td>\n      <td>1</td>\n      <td>101348.88</td>\n      <td>1</td>\n    </tr>\n    <tr>\n      <th>1</th>\n      <td>2</td>\n      <td>15647311</td>\n      <td>Hill</td>\n      <td>608</td>\n      <td>Spain</td>\n      <td>Female</td>\n      <td>41</td>\n      <td>1</td>\n      <td>83807.86</td>\n      <td>1</td>\n      <td>0</td>\n      <td>1</td>\n      <td>112542.58</td>\n      <td>0</td>\n    </tr>\n    <tr>\n      <th>2</th>\n      <td>3</td>\n      <td>15619304</td>\n      <td>Onio</td>\n      <td>502</td>\n      <td>France</td>\n      <td>Female</td>\n      <td>42</td>\n      <td>8</td>\n      <td>159660.80</td>\n      <td>3</td>\n      <td>1</td>\n      <td>0</td>\n      <td>113931.57</td>\n      <td>1</td>\n    </tr>\n    <tr>\n      <th>3</th>\n      <td>4</td>\n      <td>15701354</td>\n      <td>Boni</td>\n      <td>699</td>\n      <td>France</td>\n      <td>Female</td>\n      <td>39</td>\n      <td>1</td>\n      <td>0.00</td>\n      <td>2</td>\n      <td>0</td>\n      <td>0</td>\n      <td>93826.63</td>\n      <td>0</td>\n    </tr>\n    <tr>\n      <th>4</th>\n      <td>5</td>\n      <td>15737888</td>\n      <td>Mitchell</td>\n      <td>850</td>\n      <td>Spain</td>\n      <td>Female</td>\n      <td>43</td>\n      <td>2</td>\n      <td>125510.82</td>\n      <td>1</td>\n      <td>1</td>\n      <td>1</td>\n      <td>79084.10</td>\n      <td>0</td>\n    </tr>\n    <tr>\n      <th>...</th>\n      <td>...</td>\n      <td>...</td>\n      <td>...</td>\n      <td>...</td>\n      <td>...</td>\n      <td>...</td>\n      <td>...</td>\n      <td>...</td>\n      <td>...</td>\n      <td>...</td>\n      <td>...</td>\n      <td>...</td>\n      <td>...</td>\n      <td>...</td>\n    </tr>\n    <tr>\n      <th>9995</th>\n      <td>9996</td>\n      <td>15606229</td>\n      <td>Obijiaku</td>\n      <td>771</td>\n      <td>France</td>\n      <td>Male</td>\n      <td>39</td>\n      <td>5</td>\n      <td>0.00</td>\n      <td>2</td>\n      <td>1</td>\n      <td>0</td>\n      <td>96270.64</td>\n      <td>0</td>\n    </tr>\n    <tr>\n      <th>9996</th>\n      <td>9997</td>\n      <td>15569892</td>\n      <td>Johnstone</td>\n      <td>516</td>\n      <td>France</td>\n      <td>Male</td>\n      <td>35</td>\n      <td>10</td>\n      <td>57369.61</td>\n      <td>1</td>\n      <td>1</td>\n      <td>1</td>\n      <td>101699.77</td>\n      <td>0</td>\n    </tr>\n    <tr>\n      <th>9997</th>\n      <td>9998</td>\n      <td>15584532</td>\n      <td>Liu</td>\n      <td>709</td>\n      <td>France</td>\n      <td>Female</td>\n      <td>36</td>\n      <td>7</td>\n      <td>0.00</td>\n      <td>1</td>\n      <td>0</td>\n      <td>1</td>\n      <td>42085.58</td>\n      <td>1</td>\n    </tr>\n    <tr>\n      <th>9998</th>\n      <td>9999</td>\n      <td>15682355</td>\n      <td>Sabbatini</td>\n      <td>772</td>\n      <td>Germany</td>\n      <td>Male</td>\n      <td>42</td>\n      <td>3</td>\n      <td>75075.31</td>\n      <td>2</td>\n      <td>1</td>\n      <td>0</td>\n      <td>92888.52</td>\n      <td>1</td>\n    </tr>\n    <tr>\n      <th>9999</th>\n      <td>10000</td>\n      <td>15628319</td>\n      <td>Walker</td>\n      <td>792</td>\n      <td>France</td>\n      <td>Female</td>\n      <td>28</td>\n      <td>4</td>\n      <td>130142.79</td>\n      <td>1</td>\n      <td>1</td>\n      <td>0</td>\n      <td>38190.78</td>\n      <td>0</td>\n    </tr>\n  </tbody>\n</table>\n<p>10000 rows × 14 columns</p>\n</div>"
          },
          "metadata": {}
        }
      ],
      "execution_count": 2,
      "metadata": {
        "gather": {
          "logged": 1645988037216
        }
      }
    },
    {
      "cell_type": "code",
      "source": [
        "# Feature transformation: some suggested tasks\n",
        "# - Detect and impute null values\n",
        "# - Detect and encode categorical columns\n",
        "# - Drop the columns not used in the model\n",
        "# - Log transformations (if needed)d = d.drop(columns=['RowNumber', 'CustomerId', 'Surname'])\n",
        "d = d.drop(columns=['RowNumber', 'CustomerId', 'Surname'])\n",
        "for c in ['CreditScore', 'Age', 'Balance', 'NumOfProducts', 'EstimatedSalary']:\n",
        "    d[c] = (d[c] - d[c].mean()) / d[c].std()\n",
        "d = pd.get_dummies(d, prefix = 'oh', columns = ['Geography', 'Gender'])\n",
        "d"
      ],
      "outputs": [
        {
          "output_type": "execute_result",
          "execution_count": 3,
          "data": {
            "text/plain": "      CreditScore       Age  Tenure   Balance  NumOfProducts  HasCrCard  \\\n0       -0.326205  0.293503       2 -1.225786      -0.911538          1   \n1       -0.440014  0.198154       1  0.117344      -0.911538          0   \n2       -1.536717  0.293503       8  1.332987       2.526930          1   \n3        0.501496  0.007456       1 -1.225786       0.807696          0   \n4        2.063781  0.388852       2  0.785689      -0.911538          1   \n...           ...       ...     ...       ...            ...        ...   \n9995     1.246426  0.007456       5 -1.225786       0.807696          1   \n9996    -1.391870 -0.373939      10 -0.306363      -0.911538          1   \n9997     0.604958 -0.278590       7 -1.225786      -0.911538          0   \n9998     1.256772  0.293503       3 -0.022606       0.807696          1   \n9999     1.463698 -1.041381       4  0.859922      -0.911538          1   \n\n      IsActiveMember  EstimatedSalary  Exited  oh_France  oh_Germany  \\\n0                  1         0.021885       1          1           0   \n1                  1         0.216523       0          0           0   \n2                  0         0.240675       1          1           0   \n3                  0        -0.108912       0          1           0   \n4                  1        -0.365258       0          0           0   \n...              ...              ...     ...        ...         ...   \n9995               0        -0.066416       0          1           0   \n9996               1         0.027987       0          1           0   \n9997               1        -1.008593       1          1           0   \n9998               0        -0.125224       1          0           1   \n9999               0        -1.076316       0          1           0   \n\n      oh_Spain  oh_Female  oh_Male  \n0            0          1        0  \n1            1          1        0  \n2            0          1        0  \n3            0          1        0  \n4            1          1        0  \n...        ...        ...      ...  \n9995         0          0        1  \n9996         0          0        1  \n9997         0          1        0  \n9998         0          0        1  \n9999         0          1        0  \n\n[10000 rows x 14 columns]",
            "text/html": "<div>\n<style scoped>\n    .dataframe tbody tr th:only-of-type {\n        vertical-align: middle;\n    }\n\n    .dataframe tbody tr th {\n        vertical-align: top;\n    }\n\n    .dataframe thead th {\n        text-align: right;\n    }\n</style>\n<table border=\"1\" class=\"dataframe\">\n  <thead>\n    <tr style=\"text-align: right;\">\n      <th></th>\n      <th>CreditScore</th>\n      <th>Age</th>\n      <th>Tenure</th>\n      <th>Balance</th>\n      <th>NumOfProducts</th>\n      <th>HasCrCard</th>\n      <th>IsActiveMember</th>\n      <th>EstimatedSalary</th>\n      <th>Exited</th>\n      <th>oh_France</th>\n      <th>oh_Germany</th>\n      <th>oh_Spain</th>\n      <th>oh_Female</th>\n      <th>oh_Male</th>\n    </tr>\n  </thead>\n  <tbody>\n    <tr>\n      <th>0</th>\n      <td>-0.326205</td>\n      <td>0.293503</td>\n      <td>2</td>\n      <td>-1.225786</td>\n      <td>-0.911538</td>\n      <td>1</td>\n      <td>1</td>\n      <td>0.021885</td>\n      <td>1</td>\n      <td>1</td>\n      <td>0</td>\n      <td>0</td>\n      <td>1</td>\n      <td>0</td>\n    </tr>\n    <tr>\n      <th>1</th>\n      <td>-0.440014</td>\n      <td>0.198154</td>\n      <td>1</td>\n      <td>0.117344</td>\n      <td>-0.911538</td>\n      <td>0</td>\n      <td>1</td>\n      <td>0.216523</td>\n      <td>0</td>\n      <td>0</td>\n      <td>0</td>\n      <td>1</td>\n      <td>1</td>\n      <td>0</td>\n    </tr>\n    <tr>\n      <th>2</th>\n      <td>-1.536717</td>\n      <td>0.293503</td>\n      <td>8</td>\n      <td>1.332987</td>\n      <td>2.526930</td>\n      <td>1</td>\n      <td>0</td>\n      <td>0.240675</td>\n      <td>1</td>\n      <td>1</td>\n      <td>0</td>\n      <td>0</td>\n      <td>1</td>\n      <td>0</td>\n    </tr>\n    <tr>\n      <th>3</th>\n      <td>0.501496</td>\n      <td>0.007456</td>\n      <td>1</td>\n      <td>-1.225786</td>\n      <td>0.807696</td>\n      <td>0</td>\n      <td>0</td>\n      <td>-0.108912</td>\n      <td>0</td>\n      <td>1</td>\n      <td>0</td>\n      <td>0</td>\n      <td>1</td>\n      <td>0</td>\n    </tr>\n    <tr>\n      <th>4</th>\n      <td>2.063781</td>\n      <td>0.388852</td>\n      <td>2</td>\n      <td>0.785689</td>\n      <td>-0.911538</td>\n      <td>1</td>\n      <td>1</td>\n      <td>-0.365258</td>\n      <td>0</td>\n      <td>0</td>\n      <td>0</td>\n      <td>1</td>\n      <td>1</td>\n      <td>0</td>\n    </tr>\n    <tr>\n      <th>...</th>\n      <td>...</td>\n      <td>...</td>\n      <td>...</td>\n      <td>...</td>\n      <td>...</td>\n      <td>...</td>\n      <td>...</td>\n      <td>...</td>\n      <td>...</td>\n      <td>...</td>\n      <td>...</td>\n      <td>...</td>\n      <td>...</td>\n      <td>...</td>\n    </tr>\n    <tr>\n      <th>9995</th>\n      <td>1.246426</td>\n      <td>0.007456</td>\n      <td>5</td>\n      <td>-1.225786</td>\n      <td>0.807696</td>\n      <td>1</td>\n      <td>0</td>\n      <td>-0.066416</td>\n      <td>0</td>\n      <td>1</td>\n      <td>0</td>\n      <td>0</td>\n      <td>0</td>\n      <td>1</td>\n    </tr>\n    <tr>\n      <th>9996</th>\n      <td>-1.391870</td>\n      <td>-0.373939</td>\n      <td>10</td>\n      <td>-0.306363</td>\n      <td>-0.911538</td>\n      <td>1</td>\n      <td>1</td>\n      <td>0.027987</td>\n      <td>0</td>\n      <td>1</td>\n      <td>0</td>\n      <td>0</td>\n      <td>0</td>\n      <td>1</td>\n    </tr>\n    <tr>\n      <th>9997</th>\n      <td>0.604958</td>\n      <td>-0.278590</td>\n      <td>7</td>\n      <td>-1.225786</td>\n      <td>-0.911538</td>\n      <td>0</td>\n      <td>1</td>\n      <td>-1.008593</td>\n      <td>1</td>\n      <td>1</td>\n      <td>0</td>\n      <td>0</td>\n      <td>1</td>\n      <td>0</td>\n    </tr>\n    <tr>\n      <th>9998</th>\n      <td>1.256772</td>\n      <td>0.293503</td>\n      <td>3</td>\n      <td>-0.022606</td>\n      <td>0.807696</td>\n      <td>1</td>\n      <td>0</td>\n      <td>-0.125224</td>\n      <td>1</td>\n      <td>0</td>\n      <td>1</td>\n      <td>0</td>\n      <td>0</td>\n      <td>1</td>\n    </tr>\n    <tr>\n      <th>9999</th>\n      <td>1.463698</td>\n      <td>-1.041381</td>\n      <td>4</td>\n      <td>0.859922</td>\n      <td>-0.911538</td>\n      <td>1</td>\n      <td>0</td>\n      <td>-1.076316</td>\n      <td>0</td>\n      <td>1</td>\n      <td>0</td>\n      <td>0</td>\n      <td>1</td>\n      <td>0</td>\n    </tr>\n  </tbody>\n</table>\n<p>10000 rows × 14 columns</p>\n</div>"
          },
          "metadata": {}
        }
      ],
      "execution_count": 3,
      "metadata": {
        "gather": {
          "logged": 1645988043299
        }
      }
    },
    {
      "cell_type": "code",
      "source": [
        "# Dataset balancing\n",
        "# -----------------\n",
        "# In the last notebook I included a small program to show how undersample/oversampling can be implemented\n",
        "# You can use the same program chunk or try to use the resampling function provided by scikit-learn:\n",
        "# https://scikit-learn.org/stable/modules/generated/sklearn.utils.resample.html\n",
        "# this function can be used both for undersample and onversampling\n",
        "d_no_churn = d[d['Exited'] == 0]\n",
        "d_churn = d[d['Exited'] == 1]\n",
        "print(d_churn.shape[0])\n",
        "d_no_churn_sampled = resample(d, replace=False, n_samples=d_churn.shape[0], random_state=42)\n",
        "\n",
        "d = pd.concat([d_churn, d_no_churn_sampled])\n",
        "d\n"
      ],
      "outputs": [
        {
          "output_type": "stream",
          "name": "stdout",
          "text": "2037\n"
        },
        {
          "output_type": "execute_result",
          "execution_count": 4,
          "data": {
            "text/plain": "      CreditScore       Age  Tenure   Balance  NumOfProducts  HasCrCard  \\\n0       -0.326205  0.293503       2 -1.225786      -0.911538          1   \n2       -1.536717  0.293503       8  1.332987       2.526930          1   \n5       -0.057202  0.484200       8  0.597299       0.807696          1   \n7       -2.840346 -0.946032       4  0.617988       4.246164          1   \n16       0.025568  1.819084       1  0.899348      -0.911538          1   \n...           ...       ...     ...       ...            ...        ...   \n1298     0.335955 -0.850683      10 -0.301750      -0.911538          0   \n9193    -0.553823 -1.232078       8  1.177990      -0.911538          1   \n4617     1.670623 -1.422776      10 -1.225786       0.807696          1   \n3128     1.877548 -0.469288       6  0.988891       0.807696          0   \n9795    -1.495332  0.388852       2 -1.225786       0.807696          1   \n\n      IsActiveMember  EstimatedSalary  Exited  oh_France  oh_Germany  \\\n0                  1         0.021885       1          1           0   \n2                  0         0.240675       1          1           0   \n5                  0         0.863607       1          0           0   \n7                  0         0.334837       1          0           1   \n16                 0        -1.651743       1          0           1   \n...              ...              ...     ...        ...         ...   \n1298               0        -0.362531       0          1           0   \n9193               0        -1.004333       0          1           0   \n4617               1         0.987923       0          1           0   \n3128               1         0.807174       0          0           0   \n9795               0         0.095258       0          1           0   \n\n      oh_Spain  oh_Female  oh_Male  \n0            0          1        0  \n2            0          1        0  \n5            1          0        1  \n7            0          1        0  \n16           0          0        1  \n...        ...        ...      ...  \n1298         0          0        1  \n9193         0          1        0  \n4617         0          0        1  \n3128         1          1        0  \n9795         0          0        1  \n\n[4074 rows x 14 columns]",
            "text/html": "<div>\n<style scoped>\n    .dataframe tbody tr th:only-of-type {\n        vertical-align: middle;\n    }\n\n    .dataframe tbody tr th {\n        vertical-align: top;\n    }\n\n    .dataframe thead th {\n        text-align: right;\n    }\n</style>\n<table border=\"1\" class=\"dataframe\">\n  <thead>\n    <tr style=\"text-align: right;\">\n      <th></th>\n      <th>CreditScore</th>\n      <th>Age</th>\n      <th>Tenure</th>\n      <th>Balance</th>\n      <th>NumOfProducts</th>\n      <th>HasCrCard</th>\n      <th>IsActiveMember</th>\n      <th>EstimatedSalary</th>\n      <th>Exited</th>\n      <th>oh_France</th>\n      <th>oh_Germany</th>\n      <th>oh_Spain</th>\n      <th>oh_Female</th>\n      <th>oh_Male</th>\n    </tr>\n  </thead>\n  <tbody>\n    <tr>\n      <th>0</th>\n      <td>-0.326205</td>\n      <td>0.293503</td>\n      <td>2</td>\n      <td>-1.225786</td>\n      <td>-0.911538</td>\n      <td>1</td>\n      <td>1</td>\n      <td>0.021885</td>\n      <td>1</td>\n      <td>1</td>\n      <td>0</td>\n      <td>0</td>\n      <td>1</td>\n      <td>0</td>\n    </tr>\n    <tr>\n      <th>2</th>\n      <td>-1.536717</td>\n      <td>0.293503</td>\n      <td>8</td>\n      <td>1.332987</td>\n      <td>2.526930</td>\n      <td>1</td>\n      <td>0</td>\n      <td>0.240675</td>\n      <td>1</td>\n      <td>1</td>\n      <td>0</td>\n      <td>0</td>\n      <td>1</td>\n      <td>0</td>\n    </tr>\n    <tr>\n      <th>5</th>\n      <td>-0.057202</td>\n      <td>0.484200</td>\n      <td>8</td>\n      <td>0.597299</td>\n      <td>0.807696</td>\n      <td>1</td>\n      <td>0</td>\n      <td>0.863607</td>\n      <td>1</td>\n      <td>0</td>\n      <td>0</td>\n      <td>1</td>\n      <td>0</td>\n      <td>1</td>\n    </tr>\n    <tr>\n      <th>7</th>\n      <td>-2.840346</td>\n      <td>-0.946032</td>\n      <td>4</td>\n      <td>0.617988</td>\n      <td>4.246164</td>\n      <td>1</td>\n      <td>0</td>\n      <td>0.334837</td>\n      <td>1</td>\n      <td>0</td>\n      <td>1</td>\n      <td>0</td>\n      <td>1</td>\n      <td>0</td>\n    </tr>\n    <tr>\n      <th>16</th>\n      <td>0.025568</td>\n      <td>1.819084</td>\n      <td>1</td>\n      <td>0.899348</td>\n      <td>-0.911538</td>\n      <td>1</td>\n      <td>0</td>\n      <td>-1.651743</td>\n      <td>1</td>\n      <td>0</td>\n      <td>1</td>\n      <td>0</td>\n      <td>0</td>\n      <td>1</td>\n    </tr>\n    <tr>\n      <th>...</th>\n      <td>...</td>\n      <td>...</td>\n      <td>...</td>\n      <td>...</td>\n      <td>...</td>\n      <td>...</td>\n      <td>...</td>\n      <td>...</td>\n      <td>...</td>\n      <td>...</td>\n      <td>...</td>\n      <td>...</td>\n      <td>...</td>\n      <td>...</td>\n    </tr>\n    <tr>\n      <th>1298</th>\n      <td>0.335955</td>\n      <td>-0.850683</td>\n      <td>10</td>\n      <td>-0.301750</td>\n      <td>-0.911538</td>\n      <td>0</td>\n      <td>0</td>\n      <td>-0.362531</td>\n      <td>0</td>\n      <td>1</td>\n      <td>0</td>\n      <td>0</td>\n      <td>0</td>\n      <td>1</td>\n    </tr>\n    <tr>\n      <th>9193</th>\n      <td>-0.553823</td>\n      <td>-1.232078</td>\n      <td>8</td>\n      <td>1.177990</td>\n      <td>-0.911538</td>\n      <td>1</td>\n      <td>0</td>\n      <td>-1.004333</td>\n      <td>0</td>\n      <td>1</td>\n      <td>0</td>\n      <td>0</td>\n      <td>1</td>\n      <td>0</td>\n    </tr>\n    <tr>\n      <th>4617</th>\n      <td>1.670623</td>\n      <td>-1.422776</td>\n      <td>10</td>\n      <td>-1.225786</td>\n      <td>0.807696</td>\n      <td>1</td>\n      <td>1</td>\n      <td>0.987923</td>\n      <td>0</td>\n      <td>1</td>\n      <td>0</td>\n      <td>0</td>\n      <td>0</td>\n      <td>1</td>\n    </tr>\n    <tr>\n      <th>3128</th>\n      <td>1.877548</td>\n      <td>-0.469288</td>\n      <td>6</td>\n      <td>0.988891</td>\n      <td>0.807696</td>\n      <td>0</td>\n      <td>1</td>\n      <td>0.807174</td>\n      <td>0</td>\n      <td>0</td>\n      <td>0</td>\n      <td>1</td>\n      <td>1</td>\n      <td>0</td>\n    </tr>\n    <tr>\n      <th>9795</th>\n      <td>-1.495332</td>\n      <td>0.388852</td>\n      <td>2</td>\n      <td>-1.225786</td>\n      <td>0.807696</td>\n      <td>1</td>\n      <td>0</td>\n      <td>0.095258</td>\n      <td>0</td>\n      <td>1</td>\n      <td>0</td>\n      <td>0</td>\n      <td>0</td>\n      <td>1</td>\n    </tr>\n  </tbody>\n</table>\n<p>4074 rows × 14 columns</p>\n</div>"
          },
          "metadata": {}
        }
      ],
      "execution_count": 4,
      "metadata": {
        "scrolled": true,
        "gather": {
          "logged": 1645988047727
        }
      }
    },
    {
      "cell_type": "code",
      "source": [
        "# At this point you have to include the code to train the models, tune their metaparameters and crossvalidate the results\n",
        "# Try the following models:\n",
        "# - Logistic regression (sklearn.linear_model.LinearRegression) No parameter to tune\n",
        "# - Support Vector Machine (sklearn.svm.SVC) Choose three parameters to tune\n",
        "# - Gradient Boost (sklearn.ensemble.GradientBoostingClassifier)\n",
        "# Use the AUC as the score to compare the results\n",
        "\n",
        "y = d['Exited']\n",
        "X = d.drop(['Exited'], axis=1)\n",
        "\n",
        "scores = cross_val_score(LogisticRegression(), X, y, cv=5, scoring='roc_auc')\n",
        "print(scores)\n",
        "\n",
        "params = [{'C': [1, 2], 'kernel': ['poly'], 'degree': [1, 2]}]\n",
        "models = GridSearchCV(SVC(), params, scoring='roc_auc')\n",
        "models.fit(X, y)\n",
        "print(models.best_score_)\n",
        "print(models.best_params_)\n",
        "\n",
        "params = [{'learning_rate': [0.02, 0.05, 0.1, 0.2], 'n_estimators': [200, 300], 'criterion': ['mse']}]\n",
        "models = GridSearchCV(GradientBoostingClassifier(), params, scoring='roc_auc')\n",
        "models.fit(X, y)\n",
        "print(models.best_score_)\n",
        "print(models.best_params_)"
      ],
      "outputs": [
        {
          "output_type": "stream",
          "name": "stdout",
          "text": "[0.75483333 0.77999198 0.77020981 0.78286208 0.77741879]\n0.8353286195715874\n{'C': 2, 'degree': 2, 'kernel': 'poly'}\n"
        }
      ],
      "execution_count": 5,
      "metadata": {
        "gather": {
          "logged": 1645109627102
        }
      }
    }
  ],
  "metadata": {
    "kernelspec": {
      "name": "python3",
      "language": "python",
      "display_name": "Python 3"
    },
    "language_info": {
      "name": "python",
      "version": "3.6.9",
      "mimetype": "text/x-python",
      "codemirror_mode": {
        "name": "ipython",
        "version": 3
      },
      "pygments_lexer": "ipython3",
      "nbconvert_exporter": "python",
      "file_extension": ".py"
    },
    "kernel_info": {
      "name": "python3"
    },
    "microsoft": {
      "host": {
        "AzureML": {
          "notebookHasBeenCompleted": true
        }
      }
    },
    "nteract": {
      "version": "nteract-front-end@1.0.0"
    }
  },
  "nbformat": 4,
  "nbformat_minor": 4
}