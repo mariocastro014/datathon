{
 "cells": [
  {
   "cell_type": "code",
   "execution_count": 1,
   "metadata": {},
   "outputs": [],
   "source": [
    "#Datathon file to run the models.\n",
    "import pandas as pd\n",
    "import numpy as py\n",
    "import matplotlib.pyplot as plt\n",
    "import warnings\n",
    "\n",
    "test = pd.read_csv('test.csv')\n",
    "train = pd.read_csv('train_data.csv')"
   ]
  },
  {
   "cell_type": "code",
   "execution_count": 4,
   "metadata": {},
   "outputs": [
    {
     "data": {
      "text/plain": [
       "Unnamed: 0      0\n",
       "ofd_date        0\n",
       "country_code    0\n",
       "fc_codes        0\n",
       "station_code    0\n",
       "OFD             0\n",
       "Slam            0\n",
       "Earlies_Rec     0\n",
       "Rollover        0\n",
       "Returns         0\n",
       "R_Sideline      0\n",
       "Sideline        0\n",
       "dtype: int64"
      ]
     },
     "execution_count": 4,
     "metadata": {},
     "output_type": "execute_result"
    }
   ],
   "source": [
    "#Check the ammount of null data\n",
    "test.isna().sum()\n",
    "\n",
    "#Drop no relevant columns\n",
    "#test = test.drop(columns=[''])\n",
    "\n",
    "#Get the categorical data to be separated\n",
    "#test = pd.get_dummies(test, prefix = ['Is_'], columns = [''])\n",
    "\n",
    "# - Standarized the numerical data (if needed)\n",
    "\"\"\"\n",
    "for column in ['']:\n",
    "    test[column] = (test[column] - test[column].mean()) / test[column].std()\n",
    "test\n",
    "\"\"\""
   ]
  }
 ],
 "metadata": {
  "interpreter": {
   "hash": "b4016c711649cd93b4a24c8fe5b10f4c415c813894a9d4bfdbc019cffde92cc8"
  },
  "kernelspec": {
   "display_name": "Python 3.9.10 64-bit",
   "language": "python",
   "name": "python3"
  },
  "language_info": {
   "codemirror_mode": {
    "name": "ipython",
    "version": 3
   },
   "file_extension": ".py",
   "mimetype": "text/x-python",
   "name": "python",
   "nbconvert_exporter": "python",
   "pygments_lexer": "ipython3",
   "version": "3.9.10"
  },
  "orig_nbformat": 4
 },
 "nbformat": 4,
 "nbformat_minor": 2
}
